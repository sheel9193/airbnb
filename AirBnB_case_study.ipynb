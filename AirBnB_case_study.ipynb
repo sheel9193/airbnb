{
 "cells": [
  {
   "cell_type": "markdown",
   "metadata": {},
   "source": [
    "# AirBnB NY Locations Data Case Study\n",
    "\n",
    "In this final project, you task will be to take the data provided and find evidance to answer the following questions.\n",
    "\n",
    "1. Which hosts are the busiest and why?\n",
    "2. How many neighborhood groups are available and which shows up the most?\n",
    "3. Are private rooms the most popular in manhattan?\n",
    "4. Which hosts are the busiest and based on their reviews?\n",
    "5. Which neighorhood group has the highest average price?\n",
    "6. Which neighborhood group has the highest total price?\n",
    "7. Which top 5 hosts have the highest total price?\n",
    "8. Who currently has no (zero) availability with a review count of 100 or more?\n",
    "9. What host has the highest total of prices and where are they located?\n",
    "10. When did Danielle from Queens last receive a review?\n",
    "\n",
    "You will be given **4 hours** to complete this assignment. \n",
    "**Be Advised** I will go dark for this intire assignment time period. That said, any questions that you would like to ask about the data, or the project **MUST** be asked before the time starts. Once the time has started, I can no longer give information.\n",
    "\n",
    "This is to similate what you will face when you are out in the wild. \n",
    "\n",
    "Happy Coding!"
   ]
  },
  {
   "cell_type": "code",
   "execution_count": 7,
   "metadata": {},
   "outputs": [],
   "source": [
    "import numpy as np\n",
    "import pandas as pd\n",
    "import matplotlib.pyplot as plt"
   ]
  },
  {
   "cell_type": "code",
   "execution_count": 140,
   "metadata": {},
   "outputs": [
    {
     "data": {
      "text/html": [
       "<div>\n",
       "<style scoped>\n",
       "    .dataframe tbody tr th:only-of-type {\n",
       "        vertical-align: middle;\n",
       "    }\n",
       "\n",
       "    .dataframe tbody tr th {\n",
       "        vertical-align: top;\n",
       "    }\n",
       "\n",
       "    .dataframe thead th {\n",
       "        text-align: right;\n",
       "    }\n",
       "</style>\n",
       "<table border=\"1\" class=\"dataframe\">\n",
       "  <thead>\n",
       "    <tr style=\"text-align: right;\">\n",
       "      <th></th>\n",
       "      <th>id</th>\n",
       "      <th>name</th>\n",
       "      <th>host_id</th>\n",
       "      <th>host_name</th>\n",
       "      <th>neighbourhood_group</th>\n",
       "      <th>neighbourhood</th>\n",
       "      <th>latitude</th>\n",
       "      <th>longitude</th>\n",
       "      <th>room_type</th>\n",
       "      <th>price</th>\n",
       "      <th>minimum_nights</th>\n",
       "      <th>number_of_reviews</th>\n",
       "      <th>last_review</th>\n",
       "      <th>reviews_per_month</th>\n",
       "      <th>calculated_host_listings_count</th>\n",
       "      <th>availability_365</th>\n",
       "    </tr>\n",
       "  </thead>\n",
       "  <tbody>\n",
       "    <tr>\n",
       "      <th>0</th>\n",
       "      <td>2539</td>\n",
       "      <td>Clean &amp; quiet apt home by the park</td>\n",
       "      <td>2787</td>\n",
       "      <td>John</td>\n",
       "      <td>Brooklyn</td>\n",
       "      <td>Kensington</td>\n",
       "      <td>40.64749</td>\n",
       "      <td>-73.97237</td>\n",
       "      <td>Private room</td>\n",
       "      <td>149</td>\n",
       "      <td>1</td>\n",
       "      <td>9</td>\n",
       "      <td>2018-10-19</td>\n",
       "      <td>0.21</td>\n",
       "      <td>6</td>\n",
       "      <td>365</td>\n",
       "    </tr>\n",
       "    <tr>\n",
       "      <th>1</th>\n",
       "      <td>2595</td>\n",
       "      <td>Skylit Midtown Castle</td>\n",
       "      <td>2845</td>\n",
       "      <td>Jennifer</td>\n",
       "      <td>Manhattan</td>\n",
       "      <td>Midtown</td>\n",
       "      <td>40.75362</td>\n",
       "      <td>-73.98377</td>\n",
       "      <td>Entire home/apt</td>\n",
       "      <td>225</td>\n",
       "      <td>1</td>\n",
       "      <td>45</td>\n",
       "      <td>2019-05-21</td>\n",
       "      <td>0.38</td>\n",
       "      <td>2</td>\n",
       "      <td>355</td>\n",
       "    </tr>\n",
       "    <tr>\n",
       "      <th>2</th>\n",
       "      <td>3647</td>\n",
       "      <td>THE VILLAGE OF HARLEM....NEW YORK !</td>\n",
       "      <td>4632</td>\n",
       "      <td>Elisabeth</td>\n",
       "      <td>Manhattan</td>\n",
       "      <td>Harlem</td>\n",
       "      <td>40.80902</td>\n",
       "      <td>-73.94190</td>\n",
       "      <td>Private room</td>\n",
       "      <td>150</td>\n",
       "      <td>3</td>\n",
       "      <td>0</td>\n",
       "      <td>NaN</td>\n",
       "      <td>NaN</td>\n",
       "      <td>1</td>\n",
       "      <td>365</td>\n",
       "    </tr>\n",
       "    <tr>\n",
       "      <th>3</th>\n",
       "      <td>3831</td>\n",
       "      <td>Cozy Entire Floor of Brownstone</td>\n",
       "      <td>4869</td>\n",
       "      <td>LisaRoxanne</td>\n",
       "      <td>Brooklyn</td>\n",
       "      <td>Clinton Hill</td>\n",
       "      <td>40.68514</td>\n",
       "      <td>-73.95976</td>\n",
       "      <td>Entire home/apt</td>\n",
       "      <td>89</td>\n",
       "      <td>1</td>\n",
       "      <td>270</td>\n",
       "      <td>2019-07-05</td>\n",
       "      <td>4.64</td>\n",
       "      <td>1</td>\n",
       "      <td>194</td>\n",
       "    </tr>\n",
       "    <tr>\n",
       "      <th>4</th>\n",
       "      <td>5022</td>\n",
       "      <td>Entire Apt: Spacious Studio/Loft by central park</td>\n",
       "      <td>7192</td>\n",
       "      <td>Laura</td>\n",
       "      <td>Manhattan</td>\n",
       "      <td>East Harlem</td>\n",
       "      <td>40.79851</td>\n",
       "      <td>-73.94399</td>\n",
       "      <td>Entire home/apt</td>\n",
       "      <td>80</td>\n",
       "      <td>10</td>\n",
       "      <td>9</td>\n",
       "      <td>2018-11-19</td>\n",
       "      <td>0.10</td>\n",
       "      <td>1</td>\n",
       "      <td>0</td>\n",
       "    </tr>\n",
       "  </tbody>\n",
       "</table>\n",
       "</div>"
      ],
      "text/plain": [
       "     id                                              name  host_id  \\\n",
       "0  2539                Clean & quiet apt home by the park     2787   \n",
       "1  2595                             Skylit Midtown Castle     2845   \n",
       "2  3647               THE VILLAGE OF HARLEM....NEW YORK !     4632   \n",
       "3  3831                   Cozy Entire Floor of Brownstone     4869   \n",
       "4  5022  Entire Apt: Spacious Studio/Loft by central park     7192   \n",
       "\n",
       "     host_name neighbourhood_group neighbourhood  latitude  longitude  \\\n",
       "0         John            Brooklyn    Kensington  40.64749  -73.97237   \n",
       "1     Jennifer           Manhattan       Midtown  40.75362  -73.98377   \n",
       "2    Elisabeth           Manhattan        Harlem  40.80902  -73.94190   \n",
       "3  LisaRoxanne            Brooklyn  Clinton Hill  40.68514  -73.95976   \n",
       "4        Laura           Manhattan   East Harlem  40.79851  -73.94399   \n",
       "\n",
       "         room_type  price  minimum_nights  number_of_reviews last_review  \\\n",
       "0     Private room    149               1                  9  2018-10-19   \n",
       "1  Entire home/apt    225               1                 45  2019-05-21   \n",
       "2     Private room    150               3                  0         NaN   \n",
       "3  Entire home/apt     89               1                270  2019-07-05   \n",
       "4  Entire home/apt     80              10                  9  2018-11-19   \n",
       "\n",
       "   reviews_per_month  calculated_host_listings_count  availability_365  \n",
       "0               0.21                               6               365  \n",
       "1               0.38                               2               355  \n",
       "2                NaN                               1               365  \n",
       "3               4.64                               1               194  \n",
       "4               0.10                               1                 0  "
      ]
     },
     "execution_count": 140,
     "metadata": {},
     "output_type": "execute_result"
    }
   ],
   "source": [
    "air_bnb = pd.read_csv('../airbnb/AB_NYC_2019.csv')\n",
    "air_bnb.head(5)"
   ]
  },
  {
   "cell_type": "code",
   "execution_count": 50,
   "metadata": {},
   "outputs": [
    {
     "name": "stdout",
     "output_type": "stream",
     "text": [
      "These many neighborhoods groups are available:  5\n",
      "\n",
      "Here is the list:  Manhattan        21661\n",
      "Brooklyn         20104\n",
      "Queens            5666\n",
      "Bronx             1091\n",
      "Staten Island      373\n",
      "Name: neighbourhood_group, dtype: int64\n"
     ]
    }
   ],
   "source": [
    "# How many neighborhood groups are available and which shows up the most?\n",
    "print(\"These many neighborhoods groups are available: \", len(air_bnb['neighbourhood_group'].value_counts(ascending = False)))\n",
    "print(\"\\nHere is the list: \", air_bnb['neighbourhood_group'].value_counts(ascending = False))"
   ]
  },
  {
   "cell_type": "code",
   "execution_count": 56,
   "metadata": {},
   "outputs": [
    {
     "name": "stdout",
     "output_type": "stream",
     "text": [
      "Private rooms are not the most popular in Manhattan.\n"
     ]
    }
   ],
   "source": [
    "# Are private rooms the most popular in manhattan?\n",
    "df1 = air_bnb[air_bnb.neighbourhood_group == 'Manhattan']\n",
    "\n",
    "df1[['room_type','neighbourhood_group']].groupby('neighbourhood_group').value_counts()\n",
    "values = df1[['room_type', 'neighbourhood_group']].groupby('neighbourhood_group').value_counts().to_numpy()\n",
    "private_room = values[1]\n",
    "max_count = max(values)\n",
    "\n",
    "if max_count == private_room:\n",
    "    print('Private rooms are the most popular in Manhattan.')\n",
    "else: \n",
    "    print('Private rooms are not the most popular in Manhattan.')"
   ]
  },
  {
   "cell_type": "code",
   "execution_count": 171,
   "metadata": {},
   "outputs": [
    {
     "name": "stdout",
     "output_type": "stream",
     "text": [
      "Sonder (NYC)\n",
      "Blueground\n",
      "Kara\n",
      "Kazuya\n",
      "Jeremy & Laura\n"
     ]
    }
   ],
   "source": [
    "# Which hosts are the busiest and based on their reviews?\n",
    "\n",
    "busiest_host_ids = air_bnb[['host_id','calculated_host_listings_count']].groupby('host_id').sum().sort_values('calculated_host_listings_count', ascending = False).index[:5]\n",
    "for busiest_index in busiest_host_ids:\n",
    "  print(air_bnb[air_bnb.host_id == busiest_index]['host_name'].to_numpy()[0])\n"
   ]
  },
  {
   "cell_type": "code",
   "execution_count": null,
   "metadata": {},
   "outputs": [],
   "source": [
    "# which hosts are the busiest and why\n",
    "\n",
    "busiest_host_ids = air_bnb[['host_id','number_of_reviews']].groupby('host_id').sum().sort_values('number_of_reviews', ascending = False).index[:5]\n",
    "for busiest_index in busiest_host_ids:\n",
    "  print(air_bnb[air_bnb.host_id == busiest_index]['host_name'].to_numpy()[0])"
   ]
  },
  {
   "cell_type": "code",
   "execution_count": 68,
   "metadata": {},
   "outputs": [
    {
     "name": "stdout",
     "output_type": "stream",
     "text": [
      "Manhattan has the highest average price.\n"
     ]
    }
   ],
   "source": [
    "#Which neighorhood group has the highest average price?\n",
    "\n",
    "name = air_bnb[['neighbourhood_group','price']].groupby('neighbourhood_group').mean().sort_values('price', ascending = False).index[0]\n",
    "print(name, 'has the highest average price.')"
   ]
  },
  {
   "cell_type": "code",
   "execution_count": 72,
   "metadata": {},
   "outputs": [
    {
     "name": "stdout",
     "output_type": "stream",
     "text": [
      "Manhattan has the highest total price.\n"
     ]
    }
   ],
   "source": [
    "# Which neighbor hood group has the highest total price?\n",
    "name = air_bnb[['neighbourhood_group','price']].groupby('neighbourhood_group').sum().sort_values('price', ascending = False).index[0]\n",
    "print(name, 'has the highest total price.')"
   ]
  },
  {
   "cell_type": "code",
   "execution_count": 79,
   "metadata": {},
   "outputs": [
    {
     "name": "stdout",
     "output_type": "stream",
     "text": [
      "Sonder (NYC)\n",
      "Blueground\n",
      "Sally\n",
      "Red Awning\n",
      "Kara\n"
     ]
    }
   ],
   "source": [
    "#Which top 5 hosts have the highest total price?\n",
    "\n",
    "df2 = air_bnb[['host_id', 'price']]\n",
    "top_five = df2.groupby('host_id').sum().sort_values('price', ascending = False).index[:5]\n",
    "\n",
    "for value in top_five:\n",
    "  print(air_bnb[air_bnb.host_id == value]['host_name'].to_numpy()[0])"
   ]
  },
  {
   "cell_type": "code",
   "execution_count": 90,
   "metadata": {},
   "outputs": [
    {
     "name": "stdout",
     "output_type": "stream",
     "text": [
      "Maya\n",
      "Brooklyn&   Breakfast    -Len-\n",
      "Danielle\n",
      "Yasu & Akiko\n",
      "Brady\n"
     ]
    }
   ],
   "source": [
    "# Who currently has no (zero) availability with a review count of 100 or more?\n",
    "df8 = air_bnb[['host_id' ,'number_of_reviews', 'availability_365']]\n",
    "df8 = df8[df8.availability_365 == 0]\n",
    "\n",
    "df8 = air_bnb[['host_id', 'number_of_reviews']]\n",
    "\n",
    "df8 = df8.groupby('host_id').sum('number_of_reviews').sort_values('number_of_reviews', ascending = False)\n",
    "df8 = df8[df8.number_of_reviews > 100].index[:5]\n",
    "\n",
    "for value in df8:\n",
    "  print(air_bnb[air_bnb.host_id == value]['host_name'].to_numpy()[0])"
   ]
  },
  {
   "cell_type": "code",
   "execution_count": 170,
   "metadata": {
    "scrolled": true
   },
   "outputs": [
    {
     "name": "stdout",
     "output_type": "stream",
     "text": [
      "MultiIndex([(219517861, 'Financial District'),\n",
      "            (205031545,            'Midtown'),\n",
      "            (  3750764,            'Chelsea'),\n",
      "            (   836168,    'Upper West Side'),\n",
      "            (  1177497,       'Clinton Hill')],\n",
      "           names=['host_id', 'neighbourhood'])\n"
     ]
    }
   ],
   "source": [
    "# What host has the highest total of prices and where are they located?\n",
    "\n",
    "df9 = air_bnb[['host_id', 'price', 'neighbourhood']]\n",
    "highest_total = df9.groupby(['host_id','neighbourhood']).sum('price').sort_values('price', ascending = False).index[:5]\n",
    "print(highest_total)\n",
    "for value in highest_total:\n",
    "    value = value[0]\n",
    "    print(air_bnb[air_bnb.host_id == value]['host_name'].to_numpy()[0])\n"
   ]
  },
  {
   "cell_type": "code",
   "execution_count": 116,
   "metadata": {},
   "outputs": [
    {
     "data": {
      "text/html": [
       "<div>\n",
       "<style scoped>\n",
       "    .dataframe tbody tr th:only-of-type {\n",
       "        vertical-align: middle;\n",
       "    }\n",
       "\n",
       "    .dataframe tbody tr th {\n",
       "        vertical-align: top;\n",
       "    }\n",
       "\n",
       "    .dataframe thead th {\n",
       "        text-align: right;\n",
       "    }\n",
       "</style>\n",
       "<table border=\"1\" class=\"dataframe\">\n",
       "  <thead>\n",
       "    <tr style=\"text-align: right;\">\n",
       "      <th></th>\n",
       "      <th>host_name</th>\n",
       "      <th>neighbourhood_group</th>\n",
       "      <th>last_review</th>\n",
       "    </tr>\n",
       "  </thead>\n",
       "  <tbody>\n",
       "    <tr>\n",
       "      <th>22469</th>\n",
       "      <td>Danielle</td>\n",
       "      <td>Queens</td>\n",
       "      <td>2019-07-08</td>\n",
       "    </tr>\n",
       "  </tbody>\n",
       "</table>\n",
       "</div>"
      ],
      "text/plain": [
       "      host_name neighbourhood_group last_review\n",
       "22469  Danielle              Queens  2019-07-08"
      ]
     },
     "execution_count": 116,
     "metadata": {},
     "output_type": "execute_result"
    }
   ],
   "source": [
    "# When did Danielle from Queens last receive a review?\n",
    "\n",
    "df10 = air_bnb[['host_name', 'neighbourhood_group', 'last_review']]\n",
    "df10 = df10[(df10.host_name == 'Danielle') & (df10.neighbourhood_group == 'Queens')].sort_values('last_review', ascending = False)\n",
    "df10.head(1)"
   ]
  },
  {
   "cell_type": "markdown",
   "metadata": {},
   "source": [
    "## Further Questions\n",
    "\n",
    "1. Which host has the most listings?"
   ]
  },
  {
   "cell_type": "code",
   "execution_count": 149,
   "metadata": {},
   "outputs": [
    {
     "name": "stdout",
     "output_type": "stream",
     "text": [
      "Sonder (NYC)\n"
     ]
    }
   ],
   "source": [
    "df11 = air_bnb[['host_id','host_name', 'calculated_host_listings_count']]\n",
    "host_listing = df11.groupby('host_id').count().sort_values('calculated_host_listings_count', ascending = False).index[:1]\n",
    "\n",
    "for value in host_listing:\n",
    "    print(air_bnb[air_bnb.host_id == value]['host_name'].to_numpy()[0])\n",
    "\n"
   ]
  },
  {
   "cell_type": "markdown",
   "metadata": {},
   "source": [
    "2. How many listings have completely open availability?"
   ]
  },
  {
   "cell_type": "code",
   "execution_count": 161,
   "metadata": {},
   "outputs": [
    {
     "data": {
      "text/plain": [
       "availability_365    1295\n",
       "dtype: int64"
      ]
     },
     "execution_count": 161,
     "metadata": {},
     "output_type": "execute_result"
    }
   ],
   "source": [
    "df12 = air_bnb[['availability_365']]\n",
    "df12 = df12[(df12.availability_365 == 365)]\n",
    "df12 = df12.count()\n",
    "df12\n",
    "\n"
   ]
  },
  {
   "cell_type": "markdown",
   "metadata": {},
   "source": [
    "3. What room_types have the highest review numbers?"
   ]
  },
  {
   "cell_type": "code",
   "execution_count": 147,
   "metadata": {},
   "outputs": [
    {
     "data": {
      "text/html": [
       "<div>\n",
       "<style scoped>\n",
       "    .dataframe tbody tr th:only-of-type {\n",
       "        vertical-align: middle;\n",
       "    }\n",
       "\n",
       "    .dataframe tbody tr th {\n",
       "        vertical-align: top;\n",
       "    }\n",
       "\n",
       "    .dataframe thead th {\n",
       "        text-align: right;\n",
       "    }\n",
       "</style>\n",
       "<table border=\"1\" class=\"dataframe\">\n",
       "  <thead>\n",
       "    <tr style=\"text-align: right;\">\n",
       "      <th></th>\n",
       "      <th>number_of_reviews</th>\n",
       "      <th>reviews_per_month</th>\n",
       "    </tr>\n",
       "    <tr>\n",
       "      <th>room_type</th>\n",
       "      <th></th>\n",
       "      <th></th>\n",
       "    </tr>\n",
       "  </thead>\n",
       "  <tbody>\n",
       "    <tr>\n",
       "      <th>Entire home/apt</th>\n",
       "      <td>25409</td>\n",
       "      <td>20332</td>\n",
       "    </tr>\n",
       "  </tbody>\n",
       "</table>\n",
       "</div>"
      ],
      "text/plain": [
       "                 number_of_reviews  reviews_per_month\n",
       "room_type                                            \n",
       "Entire home/apt              25409              20332"
      ]
     },
     "execution_count": 147,
     "metadata": {},
     "output_type": "execute_result"
    }
   ],
   "source": [
    "df13 = air_bnb[['room_type', 'number_of_reviews', 'reviews_per_month']]\n",
    "df13 = df13.groupby('room_type').count().sort_values('number_of_reviews', ascending = False)\n",
    "df13.head(1)\n"
   ]
  },
  {
   "cell_type": "markdown",
   "metadata": {},
   "source": [
    "# Final Conclusion\n",
    "\n",
    "In this cell, write your final conclusion for each of the questions asked.\n",
    "\n",
    "Also, if you uncovered some more details that were not asked above, please discribe them here.\n",
    "\n",
    "-- Add your conclusion --"
   ]
  },
  {
   "cell_type": "code",
   "execution_count": null,
   "metadata": {},
   "outputs": [],
   "source": [
    "# Which hosts are the busiest and why\n",
    "Sonder (NYC)\n",
    "Blueground\n",
    "Kara\n",
    "Kazuya\n",
    "Jeremy & Laura\n",
    "\n",
    "These host are the busiest due to \"Calculated_host_listing_count\" column. This column to me meant this column is \n",
    "counting all the listings the host is having to do. Therefore, I used this column to see who the busist host are. \n",
    "\n",
    "\n",
    "# Which hosts are the busiest and based on their reviews?\n",
    "Maya\n",
    "Brooklyn&   Breakfast    -Len-\n",
    "Danielle\n",
    "Yasu & Akiko\n",
    "Brady\n",
    "\n",
    "# How many neighborhood groups are available and which shows up the most?\n",
    "These many neighborhoods groups are available:  5\n",
    "\n",
    "Here is the list:  \n",
    "Manhattan        21661\n",
    "Brooklyn         20104\n",
    "Queens            5666\n",
    "Bronx             1091\n",
    "Staten Island      373\n",
    "\n",
    "# Are private rooms the most popular in manhattan?\n",
    "Private rooms are not the most popular in Manhattan.\n",
    "\n",
    "# Which neighorhood group has the highest average price?\n",
    "Manhattan has the highest average price.\n",
    "\n",
    "# Which neighbor hood group has the highest total price?\n",
    "Manhattan has the highest total price.\n",
    "\n",
    "# Which top 5 hosts have the highest total price?\n",
    "Sonder (NYC)\n",
    "Blueground\n",
    "Sally\n",
    "Red Awning\n",
    "Kara\n",
    "\n",
    "# Who currently has no (zero) availability with a review count of 100 or more?\n",
    "Maya\n",
    "Brooklyn&   Breakfast    -Len-\n",
    "Danielle\n",
    "Yasu & Akiko\n",
    "Brady\n",
    "\n",
    "# What host has the highest total of prices and where are they located?\n",
    "Sonder (NYC)   Financial District\n",
    "Red Awning     Midtown\n",
    "Kevin          Chelsea\n",
    "Henry          Upper West Side\n",
    "Jessica        Clinton Hill\n",
    "\n",
    "# When did Danielle from Queens last receive a review?\n",
    "2019-07-08"
   ]
  }
 ],
 "metadata": {
  "kernelspec": {
   "display_name": "Python 3 (ipykernel)",
   "language": "python",
   "name": "python3"
  },
  "language_info": {
   "codemirror_mode": {
    "name": "ipython",
    "version": 3
   },
   "file_extension": ".py",
   "mimetype": "text/x-python",
   "name": "python",
   "nbconvert_exporter": "python",
   "pygments_lexer": "ipython3",
   "version": "3.10.9"
  }
 },
 "nbformat": 4,
 "nbformat_minor": 2
}
